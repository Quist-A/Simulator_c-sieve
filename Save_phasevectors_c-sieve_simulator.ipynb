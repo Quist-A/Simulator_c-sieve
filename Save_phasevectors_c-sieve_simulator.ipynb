{
 "cells": [
  {
   "cell_type": "markdown",
   "metadata": {},
   "source": [
    "Author: Arend-Jan Quist \\\n",
    "Date created: 12 October 2021\\\n",
    "Last modified: 28 January 2022\n",
    "\n",
    "Description: This program simulates the quantum algorithm as proposed by C.  Peiker in $\\textit{He Gives C-Sieves on the CSIDH}$ (2020). \n",
    "The resulting output phase vectors of the c-sieve are saved in a file.\\\n",
    "\n",
    "For the protocol to save phase vectors, see the file \"Protocol to save phase vectors.txt\".\n"
   ]
  },
  {
   "cell_type": "code",
   "execution_count": 1,
   "metadata": {},
   "outputs": [
    {
     "name": "stdout",
     "output_type": "stream",
     "text": [
      "C-sieve simulator imported.\n",
      "Seed has been set.\n",
      "For bugs and short documentation, see the C_sieve_simulator.py file.\n"
     ]
    }
   ],
   "source": [
    "from C_sieve_simulator import * "
   ]
  },
  {
   "cell_type": "code",
   "execution_count": 2,
   "metadata": {
    "scrolled": false
   },
   "outputs": [
    {
     "name": "stdout",
     "output_type": "stream",
     "text": [
      "run nr  0\n",
      "length: 1519\n",
      "run nr  1\n",
      "length: 2382\n",
      "run nr  2\n",
      "length: 4246\n",
      "run nr  3\n",
      "length: 2893\n"
     ]
    }
   ],
   "source": [
    "\n",
    "# Parameters\n",
    "\n",
    "r = 2  # arity (number of combined phase vectors in collimation)\n",
    "L = 5000 # wanted length of output phase vector\n",
    "S_0 = 500  # [S_0] is the range of output phase vector\n",
    "N = 1000000  # order of group\n",
    "\n",
    "n=4\n",
    "\n",
    "phasevectors = []\n",
    "\n",
    "for i in range(n):\n",
    "    print(\"run nr \",i)\n",
    "    x=sieve(N, r, L, S_0, None,False)\n",
    "    phasevectors.append(x)\n",
    "    print(\"length:\",x[1])"
   ]
  },
  {
   "cell_type": "code",
   "execution_count": 3,
   "metadata": {},
   "outputs": [],
   "source": [
    "\n",
    "# save phase vectors\n",
    "\n",
    "for i in range(n):\n",
    "    outfile = \"Phasevectors/phasevector_\"+str(L)+\"_\"+str(S_0)+\"_\"+str(N)+\"_\"+str(r)+\"_\"+str(i)+\".npz\"\n",
    "    phasevectors[i].append(S_0)\n",
    "    phasevectors[i].append(N)\n",
    "    np.savez_compressed(outfile, data=phasevectors[i])\n",
    "\n"
   ]
  }
 ],
 "metadata": {
  "kernelspec": {
   "display_name": "Python 3",
   "language": "python",
   "name": "python3"
  },
  "language_info": {
   "codemirror_mode": {
    "name": "ipython",
    "version": 3
   },
   "file_extension": ".py",
   "mimetype": "text/x-python",
   "name": "python",
   "nbconvert_exporter": "python",
   "pygments_lexer": "ipython3",
   "version": "3.7.6"
  }
 },
 "nbformat": 4,
 "nbformat_minor": 4
}
