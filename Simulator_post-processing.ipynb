{
 "cells": [
  {
   "cell_type": "markdown",
   "metadata": {},
   "source": [
    "Author: Arend-Jan Quist\\\n",
    "Date created: 26 November 2021\\\n",
    "Last modified: 11 February 2022\n"
   ]
  },
  {
   "cell_type": "code",
   "execution_count": 1,
   "metadata": {},
   "outputs": [],
   "source": [
    "import numpy as np\n",
    "from numba import jit\n",
    "import matplotlib.pyplot as plt"
   ]
  },
  {
   "cell_type": "markdown",
   "metadata": {},
   "source": [
    "The multipliers of the output phase vector from the c-sieve are assumed to be binomial distributed with parameters $n=L-1$ and $p=\\frac{1}{S}$."
   ]
  },
  {
   "cell_type": "code",
   "execution_count": 2,
   "metadata": {},
   "outputs": [],
   "source": [
    "# This function can be replaced by importing a phase vector (its multipliers) from a c-sieve simulation\n",
    "def create_multipliers(n,p,S):\n",
    "    \"\"\"Create multipliers as simulation for a c-sieve output vector according to the binomial distribution\"\"\" \n",
    "    \n",
    "    multipliers = np.random.binomial(n,p,S)# create random multipliers\n",
    "\n",
    "    L_updated = np.sum(multipliers) # calculate length of obtained phase vector\n",
    "    \n",
    "    return (multipliers,L_updated)\n",
    "\n",
    "\n",
    "def measure_counter_register(S,L,multipliers):\n",
    "    \"\"\"Find random output of measurement of first register of |I(j)> 's\"\"\" \n",
    "    \n",
    "    x = np.random.randint(L)\n",
    "\n",
    "    for i in range(S):\n",
    "        res = x - multipliers[i]\n",
    "        if (res >= 0):\n",
    "            x = res\n",
    "        else:\n",
    "            break\n",
    "    I_measured = x\n",
    "    return I_measured\n",
    "\n",
    "\n",
    "def create_punctured_phasevector(multipliers,I_measured):\n",
    "    \"\"\"Create the punctured phase vector based on the multipliers of the \n",
    "    original phase vector and the measured value of the counter register.\n",
    "    \"\"\"\n",
    "    X = [multipliers>I_measured] \n",
    "    X_card = np.sum(X) # number of surviving indices\n",
    "    X = np.nonzero(X[0])[0] # set of surviving indices\n",
    "    return (X,X_card)\n",
    "\n",
    "@jit(nopython=True)\n",
    "def calculate_probability(S,X,X_card,theta):\n",
    "    _sum = 0\n",
    "    for b in X:\n",
    "        #print(b)\n",
    "        _sum += np.exp(2j*np.pi*b*theta)\n",
    "    return abs(_sum)**2 / (X_card*S)\n",
    "\n",
    "\n",
    "def calculate_probabilities(S,X,X_card,range_theta):\n",
    "    probabilities = []\n",
    "    \n",
    "    for theta in range_theta:\n",
    "        probabilities.append(calculate_probability(S,X,X_card, theta))\n",
    "    return probabilities\n",
    "\n",
    "\n",
    "def simulate(L,S,seed=20211126):\n",
    "    \"\"\"Simulate the post processing of option (1) averaged over measurements\n",
    "    \"\"\"\n",
    "    \n",
    "    np.random.seed(seed) # set seed to make things reproducible\n",
    "    \n",
    "    # parameters for random multipliers\n",
    "    n = L-1\n",
    "    p = 1/S\n",
    "    \n",
    "    # create phase vector as from c-sieve\n",
    "    multipliers,L = create_multipliers(n,p,S)\n",
    "    \n",
    "    \n",
    "    # apply post processing: first measure counter register, than measure the other register.\n",
    "    \n",
    "    n_q = 1  # number of values of q sampled\n",
    "    range_q = np.linspace(0,1/(2*S),n_q)\n",
    "    \n",
    "    N_measurements = 1000  # number of times the state is measured\n",
    "    \n",
    "    probabilities = np.zeros([N_measurements,n_q])\n",
    "    \n",
    "    for i in range(N_measurements):\n",
    "        I_measured = measure_counter_register(S,L,multipliers)\n",
    "        X,X_card = create_punctured_phasevector(multipliers,I_measured)\n",
    "        \n",
    "        for j,q in enumerate(range_q):\n",
    "            probabilities[i][j] = sum(calculate_probabilities(S,X,X_card,[q]))#,1/S-q,1/S+q,2/S-q]))\n",
    "            \n",
    "    return probabilities"
   ]
  },
  {
   "cell_type": "code",
   "execution_count": null,
   "metadata": {},
   "outputs": [],
   "source": []
  },
  {
   "cell_type": "code",
   "execution_count": 3,
   "metadata": {},
   "outputs": [],
   "source": [
    "# parameters\n",
    "\n",
    "L = 5000 # length of phase vector\n",
    "S = 500 # range of phase vector\n",
    "N = 1000000  # group order -> not needed in this simulation\n",
    "    \n",
    "# parameters for random multipliers\n",
    "n = L-1\n",
    "p = 1/S\n",
    "\n",
    "np.random.seed(20211126) # set seed to make things reproducible\n",
    "\n",
    "import_phasevector = True"
   ]
  },
  {
   "cell_type": "code",
   "execution_count": 4,
   "metadata": {},
   "outputs": [
    {
     "ename": "FileNotFoundError",
     "evalue": "[Errno 2] No such file or directory: 'Phasevectors/phasevector_5000_500_1000000_2_0.npz'",
     "output_type": "error",
     "traceback": [
      "\u001b[1;31m---------------------------------------------------------------------------\u001b[0m",
      "\u001b[1;31mFileNotFoundError\u001b[0m                         Traceback (most recent call last)",
      "\u001b[1;32m<ipython-input-4-bcfea327c4a0>\u001b[0m in \u001b[0;36m<module>\u001b[1;34m\u001b[0m\n\u001b[0;32m      4\u001b[0m     \u001b[0mr\u001b[0m\u001b[1;33m=\u001b[0m\u001b[1;36m2\u001b[0m \u001b[1;31m#arity\u001b[0m\u001b[1;33m\u001b[0m\u001b[1;33m\u001b[0m\u001b[0m\n\u001b[0;32m      5\u001b[0m     \u001b[0minfile\u001b[0m \u001b[1;33m=\u001b[0m \u001b[1;34m\"Phasevectors/phasevector_\"\u001b[0m\u001b[1;33m+\u001b[0m\u001b[0mstr\u001b[0m\u001b[1;33m(\u001b[0m\u001b[0mL\u001b[0m\u001b[1;33m)\u001b[0m\u001b[1;33m+\u001b[0m\u001b[1;34m\"_\"\u001b[0m\u001b[1;33m+\u001b[0m\u001b[0mstr\u001b[0m\u001b[1;33m(\u001b[0m\u001b[0mS\u001b[0m\u001b[1;33m)\u001b[0m\u001b[1;33m+\u001b[0m\u001b[1;34m\"_\"\u001b[0m\u001b[1;33m+\u001b[0m\u001b[0mstr\u001b[0m\u001b[1;33m(\u001b[0m\u001b[0mN\u001b[0m\u001b[1;33m)\u001b[0m\u001b[1;33m+\u001b[0m\u001b[1;34m\"_\"\u001b[0m\u001b[1;33m+\u001b[0m\u001b[0mstr\u001b[0m\u001b[1;33m(\u001b[0m\u001b[0mr\u001b[0m\u001b[1;33m)\u001b[0m\u001b[1;33m+\u001b[0m\u001b[1;34m\"_\"\u001b[0m\u001b[1;33m+\u001b[0m\u001b[0mstr\u001b[0m\u001b[1;33m(\u001b[0m\u001b[0mi\u001b[0m\u001b[1;33m)\u001b[0m\u001b[1;33m+\u001b[0m\u001b[1;34m\".npz\"\u001b[0m\u001b[1;33m\u001b[0m\u001b[1;33m\u001b[0m\u001b[0m\n\u001b[1;32m----> 6\u001b[1;33m     \u001b[0mdata\u001b[0m\u001b[1;33m=\u001b[0m\u001b[0mnp\u001b[0m\u001b[1;33m.\u001b[0m\u001b[0mload\u001b[0m\u001b[1;33m(\u001b[0m\u001b[0minfile\u001b[0m\u001b[1;33m,\u001b[0m\u001b[0mallow_pickle\u001b[0m\u001b[1;33m=\u001b[0m\u001b[1;32mTrue\u001b[0m\u001b[1;33m)\u001b[0m\u001b[1;33m[\u001b[0m\u001b[1;34m'data'\u001b[0m\u001b[1;33m]\u001b[0m\u001b[1;33m\u001b[0m\u001b[1;33m\u001b[0m\u001b[0m\n\u001b[0m\u001b[0;32m      7\u001b[0m     \u001b[0mmultiplier_values\u001b[0m \u001b[1;33m=\u001b[0m \u001b[0mdata\u001b[0m\u001b[1;33m[\u001b[0m\u001b[1;36m0\u001b[0m\u001b[1;33m]\u001b[0m\u001b[1;33m\u001b[0m\u001b[1;33m\u001b[0m\u001b[0m\n\u001b[0;32m      8\u001b[0m     \u001b[0mmultipliers\u001b[0m \u001b[1;33m=\u001b[0m \u001b[0mnp\u001b[0m\u001b[1;33m.\u001b[0m\u001b[0mhistogram\u001b[0m\u001b[1;33m(\u001b[0m\u001b[0mmultiplier_values\u001b[0m\u001b[1;33m,\u001b[0m\u001b[0mnp\u001b[0m\u001b[1;33m.\u001b[0m\u001b[0marange\u001b[0m\u001b[1;33m(\u001b[0m\u001b[1;33m-\u001b[0m\u001b[1;36m0.5\u001b[0m\u001b[1;33m,\u001b[0m\u001b[0mS\u001b[0m\u001b[1;33m+\u001b[0m\u001b[1;36m1\u001b[0m \u001b[1;33m+\u001b[0m\u001b[1;36m0.5\u001b[0m\u001b[1;33m)\u001b[0m\u001b[1;33m)\u001b[0m\u001b[1;33m[\u001b[0m\u001b[1;36m0\u001b[0m\u001b[1;33m]\u001b[0m\u001b[1;33m\u001b[0m\u001b[1;33m\u001b[0m\u001b[0m\n",
      "\u001b[1;32m~\\anaconda3\\lib\\site-packages\\numpy\\lib\\npyio.py\u001b[0m in \u001b[0;36mload\u001b[1;34m(file, mmap_mode, allow_pickle, fix_imports, encoding)\u001b[0m\n\u001b[0;32m    426\u001b[0m         \u001b[0mown_fid\u001b[0m \u001b[1;33m=\u001b[0m \u001b[1;32mFalse\u001b[0m\u001b[1;33m\u001b[0m\u001b[1;33m\u001b[0m\u001b[0m\n\u001b[0;32m    427\u001b[0m     \u001b[1;32melse\u001b[0m\u001b[1;33m:\u001b[0m\u001b[1;33m\u001b[0m\u001b[1;33m\u001b[0m\u001b[0m\n\u001b[1;32m--> 428\u001b[1;33m         \u001b[0mfid\u001b[0m \u001b[1;33m=\u001b[0m \u001b[0mopen\u001b[0m\u001b[1;33m(\u001b[0m\u001b[0mos_fspath\u001b[0m\u001b[1;33m(\u001b[0m\u001b[0mfile\u001b[0m\u001b[1;33m)\u001b[0m\u001b[1;33m,\u001b[0m \u001b[1;34m\"rb\"\u001b[0m\u001b[1;33m)\u001b[0m\u001b[1;33m\u001b[0m\u001b[1;33m\u001b[0m\u001b[0m\n\u001b[0m\u001b[0;32m    429\u001b[0m         \u001b[0mown_fid\u001b[0m \u001b[1;33m=\u001b[0m \u001b[1;32mTrue\u001b[0m\u001b[1;33m\u001b[0m\u001b[1;33m\u001b[0m\u001b[0m\n\u001b[0;32m    430\u001b[0m \u001b[1;33m\u001b[0m\u001b[0m\n",
      "\u001b[1;31mFileNotFoundError\u001b[0m: [Errno 2] No such file or directory: 'Phasevectors/phasevector_5000_500_1000000_2_0.npz'"
     ]
    }
   ],
   "source": [
    "if import_phasevector:\n",
    "    # import phase vector from file\n",
    "    i=0 #number of run\n",
    "    r=2 #arity\n",
    "    infile = \"Phasevectors/phasevector_\"+str(L)+\"_\"+str(S)+\"_\"+str(N)+\"_\"+str(r)+\"_\"+str(i)+\".npz\"\n",
    "    data=np.load(infile,allow_pickle=True)['data']\n",
    "    multiplier_values = data[0]\n",
    "    multipliers = np.histogram(multiplier_values,np.arange(-0.5,S+1 +0.5))[0]\n",
    "    L = data[1]\n",
    "    \n",
    "else:\n",
    "    # create phase vector as from c-sieve by simulation\n",
    "    multipliers,L = create_multipliers(n,p,S)\n",
    "    \n",
    "print(\"L_realized =\", L)\n",
    "multipliers[0]"
   ]
  },
  {
   "cell_type": "code",
   "execution_count": 5,
   "metadata": {},
   "outputs": [
    {
     "ename": "NameError",
     "evalue": "name 'multiplier_values' is not defined",
     "output_type": "error",
     "traceback": [
      "\u001b[1;31m---------------------------------------------------------------------------\u001b[0m",
      "\u001b[1;31mNameError\u001b[0m                                 Traceback (most recent call last)",
      "\u001b[1;32m<ipython-input-5-04ddbead3481>\u001b[0m in \u001b[0;36m<module>\u001b[1;34m\u001b[0m\n\u001b[1;32m----> 1\u001b[1;33m \u001b[0mmax\u001b[0m\u001b[1;33m(\u001b[0m\u001b[0mmultiplier_values\u001b[0m\u001b[1;33m)\u001b[0m\u001b[1;33m\u001b[0m\u001b[1;33m\u001b[0m\u001b[0m\n\u001b[0m",
      "\u001b[1;31mNameError\u001b[0m: name 'multiplier_values' is not defined"
     ]
    }
   ],
   "source": [
    "max(multiplier_values)"
   ]
  },
  {
   "cell_type": "code",
   "execution_count": 6,
   "metadata": {},
   "outputs": [
    {
     "name": "stdout",
     "output_type": "stream",
     "text": [
      "[0.645148]\n",
      "0.6451479999999999\n"
     ]
    }
   ],
   "source": [
    "# Simulation of the post processing\n",
    "\n",
    "\n",
    "# apply post processing: first measure counter register, than measure the other register.\n",
    "\n",
    "n_q = 1  # number of values of q sampled\n",
    "range_q = np.linspace(0,1/(2*S),n_q)\n",
    "\n",
    "N_measurements = 1000  # number of times the state is measured\n",
    "\n",
    "probabilities = np.zeros([N_measurements,n_q])\n",
    "\n",
    "for i in range(N_measurements):\n",
    "    I_measured = measure_counter_register(S,L,multipliers)\n",
    "    X,X_card = create_punctured_phasevector(multipliers,I_measured)\n",
    "    \n",
    "    for j,q in enumerate(range_q):\n",
    "        probabilities[i][j] = sum(calculate_probabilities(S,X,X_card,[q]))#,1/S-q,1/S+q,2/S-q]))\n",
    "print(np.average(probabilities,0))\n",
    "print(np.average(probabilities))"
   ]
  },
  {
   "cell_type": "code",
   "execution_count": 7,
   "metadata": {},
   "outputs": [
    {
     "data": {
      "text/plain": [
       "0.493625"
      ]
     },
     "execution_count": 7,
     "metadata": {},
     "output_type": "execute_result"
    }
   ],
   "source": [
    "np.average(simulate(2**10,2**10))"
   ]
  },
  {
   "cell_type": "code",
   "execution_count": 28,
   "metadata": {},
   "outputs": [],
   "source": [
    "S = 500\n",
    "probabilities = []\n",
    "range_L = np.logspace(5,18,30,base=2)\n",
    "for L in range_L:\n",
    "    probabilities.append(np.average(simulate(L,S)))\n",
    "    "
   ]
  },
  {
   "cell_type": "code",
   "execution_count": 31,
   "metadata": {},
   "outputs": [
    {
     "data": {
      "image/png": "[encoded data removed]",
      "text/plain": [
       "<Figure size 432x288 with 1 Axes>"
      ]
     },
     "metadata": {
      "needs_background": "light"
     },
     "output_type": "display_data"
    }
   ],
   "source": [
    "plt.plot(range_L[:]/S,probabilities[:],'o')\n",
    "plt.semilogx()\n",
    "#plt.semilogy()\n",
    "plt.xlabel(\"L/S\")\n",
    "#plt.ylabel(\"Probability to find log(S) bits\")\n",
    "plt.ylabel(r\"Amplitude $A$\")\n",
    "plt.title(r\"$q=θ=0, S=500$\")\n",
    "plt.show()"
   ]
  },
  {
   "cell_type": "code",
   "execution_count": 6,
   "metadata": {},
   "outputs": [
    {
     "data": {
      "text/plain": [
       "array([0.])"
      ]
     },
     "execution_count": 6,
     "metadata": {},
     "output_type": "execute_result"
    }
   ],
   "source": []
  },
  {
   "cell_type": "code",
   "execution_count": 12,
   "metadata": {},
   "outputs": [
    {
     "name": "stdout",
     "output_type": "stream",
     "text": [
      "262144.0\n"
     ]
    },
    {
     "data": {
      "text/plain": [
       "[<matplotlib.lines.Line2D at 0x16a56931048>]"
      ]
     },
     "execution_count": 12,
     "metadata": {},
     "output_type": "execute_result"
    },
    {
     "data": {
      "image/png": "[encoded data removed]",
      "text/plain": [
       "<Figure size 432x288 with 1 Axes>"
      ]
     },
     "metadata": {
      "needs_background": "light"
     },
     "output_type": "display_data"
    }
   ],
   "source": [
    "print(L)\n",
    "plt.plot(multipliers,'x')"
   ]
  },
  {
   "cell_type": "code",
   "execution_count": 41,
   "metadata": {},
   "outputs": [],
   "source": []
  },
  {
   "cell_type": "code",
   "execution_count": 5,
   "metadata": {},
   "outputs": [],
   "source": [
    "# DO NOT RUN THIS CELL!!!\n",
    "# Wrong calculation: calculates value of the second register ;-(\n",
    "\n",
    "# Find output of measurement of first register of |I(j)> 's\n",
    "\n",
    "x = np.random.randint(L)\n",
    "\n",
    "i=0\n",
    "count=0\n",
    "while(count<=x):\n",
    "    count += multipliers[i]\n",
    "    i += 1\n",
    "I_measured = i-1  # measured value of the first register"
   ]
  },
  {
   "cell_type": "code",
   "execution_count": 133,
   "metadata": {},
   "outputs": [
    {
     "data": {
      "text/plain": [
       "(0,\n",
       " array([5, 3, 3, 3, 1, 1, 4, 3, 0, 4, 3, 3, 3, 3, 3, 0, 0, 4, 5, 1, 2, 3,\n",
       "        2, 2, 0, 3, 0, 2, 4, 2, 5, 4, 1, 6, 3, 2, 1, 2, 2, 1, 0, 2, 4, 1,\n",
       "        1, 2, 4, 2, 5, 0, 5, 3, 4, 4, 7, 0, 3, 3, 0, 2, 0, 2, 2, 2, 5, 3,\n",
       "        3, 5, 3, 1, 2, 5, 4, 1, 2, 1, 3, 2, 5, 1, 1, 2, 2, 4, 4, 2, 2, 5,\n",
       "        3, 5, 0, 5, 0, 4, 2, 0, 4, 3, 3, 0, 3, 1, 2, 1, 2, 0, 2, 3, 5, 5,\n",
       "        1, 2, 0, 2, 2, 3, 1, 5, 3, 1, 1, 1, 0, 2, 0, 3, 3, 2, 5, 3, 3, 2,\n",
       "        2, 2, 0, 4, 2, 1, 3, 3, 1, 3, 5, 1, 4, 3, 0, 3, 0, 2, 0, 3, 3, 1,\n",
       "        2, 2, 2, 1, 2, 6, 3, 3, 1, 2, 1, 0, 1, 0, 3, 4, 1, 5, 1, 4, 2, 3,\n",
       "        1, 3, 4, 3, 2, 2, 3, 0, 3, 7, 3, 1, 2, 1, 2, 0, 1, 3, 7, 1, 3, 4,\n",
       "        2, 2, 3, 4, 2, 1, 2, 4, 5, 2, 2, 3, 3, 0, 0, 1, 6, 3, 2, 2, 5, 1,\n",
       "        1, 2, 3, 2, 4, 1, 3, 2, 1, 4, 0, 3, 2, 2, 1, 6, 3, 1, 1, 3, 3, 1,\n",
       "        4, 4, 4, 2, 1, 1, 4, 2, 2, 2, 2, 0, 4, 5, 1, 4, 4, 7, 2, 3, 3, 3,\n",
       "        1, 1, 6, 3, 3, 1, 1, 2, 3, 0, 1, 2, 5, 3, 4, 3, 2, 3, 3, 1, 2, 3,\n",
       "        0, 1, 2, 1, 1, 0, 3, 2, 2, 2, 5, 4, 4, 0, 1, 1, 4, 1, 2, 4, 2, 4,\n",
       "        2, 6, 2, 3, 3, 6, 4, 6, 4, 3, 2, 4, 2, 2, 3, 1, 2, 2, 4, 2, 2, 4,\n",
       "        0, 3, 1, 2, 1, 2, 2, 0, 2, 5, 4, 4, 3, 2, 3, 1, 1, 4, 3, 1, 0, 2,\n",
       "        3, 1, 3, 0, 5, 2, 5, 4, 4, 2, 2, 2, 3, 4, 3, 6, 0, 3, 5, 4, 5, 3,\n",
       "        2, 1, 1, 1, 4, 2, 1, 3, 2, 1, 3, 5, 1, 3, 1, 4, 5, 1, 1, 5, 3, 4,\n",
       "        2, 2, 1, 2, 4, 2, 2, 1, 2, 5, 4, 4, 1, 2, 4, 3, 2, 2, 1, 1, 4, 3,\n",
       "        0, 6, 1, 2, 2, 2, 3, 3, 2, 0, 2, 2, 3, 3, 3, 1, 0, 2, 8, 4, 0, 3,\n",
       "        1, 1, 0, 1, 1, 1, 3, 2, 2, 2, 2, 3, 3, 2, 1, 2, 3, 5, 3, 0, 1, 2,\n",
       "        1, 1, 0, 3, 3, 2, 1, 2, 2, 1, 2, 2, 2, 2, 0, 4, 1, 2, 2, 0, 1, 2,\n",
       "        3, 2, 2, 5, 4, 3, 0, 3, 3, 1, 2, 1, 3, 2, 2, 2, 0], dtype=int64))"
      ]
     },
     "execution_count": 133,
     "metadata": {},
     "output_type": "execute_result"
    }
   ],
   "source": [
    "I_measured,multipliers"
   ]
  },
  {
   "cell_type": "code",
   "execution_count": 13,
   "metadata": {},
   "outputs": [
    {
     "name": "stdout",
     "output_type": "stream",
     "text": [
      "no success\n"
     ]
    }
   ],
   "source": [
    "if (I_measured < min(multipliers)):\n",
    "    print(\"success!\")\n",
    "else:\n",
    "    print(\"no success\")\n",
    "    \n",
    "\n"
   ]
  },
  {
   "cell_type": "code",
   "execution_count": 36,
   "metadata": {},
   "outputs": [],
   "source": []
  },
  {
   "cell_type": "code",
   "execution_count": 38,
   "metadata": {},
   "outputs": [
    {
     "data": {
      "text/plain": [
       "3319"
      ]
     },
     "execution_count": 38,
     "metadata": {},
     "output_type": "execute_result"
    }
   ],
   "source": []
  },
  {
   "cell_type": "code",
   "execution_count": 19,
   "metadata": {},
   "outputs": [
    {
     "data": {
      "image/png": "[encoded data removed]",
      "text/plain": [
       "<Figure size 432x288 with 1 Axes>"
      ]
     },
     "metadata": {
      "needs_background": "light"
     },
     "output_type": "display_data"
    }
   ],
   "source": [
    "delta = 0.05\n",
    "\n",
    "_range = np.arange(0,2.5/S,delta/S)\n",
    "probabilities = []\n",
    "\n",
    "for theta in _range:\n",
    "    probabilities.append(calculate_probability(S,X,X_card, theta))\n",
    "    #print(theta,\"done.\")\n",
    "    \n",
    "plt.plot(_range*S,probabilities,'o')\n",
    "plt.xlabel(' θ$\\cdot$S ')\n",
    "plt.ylabel(\"Probability\")\n",
    "plt.show()"
   ]
  },
  {
   "cell_type": "code",
   "execution_count": 15,
   "metadata": {},
   "outputs": [
    {
     "data": {
      "image/png": "[encoded data removed]",
      "text/plain": [
       "<Figure size 432x288 with 1 Axes>"
      ]
     },
     "metadata": {
      "needs_background": "light"
     },
     "output_type": "display_data"
    }
   ],
   "source": [
    "# add random values of theta to the probability calculation\n",
    "m = 50  # number of added uniform values of theta\n",
    "rnd_thetas = np.random.uniform(0,2.5/S,m)\n",
    "    \n",
    "delta = 0.05\n",
    "\n",
    "_range = np.arange(0,2.5/S,delta/S)\n",
    "_range = np.append(_range,rnd_thetas)\n",
    "probabilities = []\n",
    "\n",
    "for theta in _range:\n",
    "    probabilities.append(calculate_probability(S,X,X_card, theta))\n",
    "    #print(theta,\"done.\")\n",
    "    \n",
    "plt.plot(_range*S,probabilities,'.')\n",
    "plt.xlabel(' θ$\\cdot$S ')\n",
    "plt.ylabel(\"Probability\")\n",
    "plt.show()\n"
   ]
  },
  {
   "cell_type": "markdown",
   "metadata": {},
   "source": [
    "Define $q=\\left|\\frac{s}{N}S - \\left\\lceil\\frac{s}{N}S\\right\\rfloor\\right|$. "
   ]
  },
  {
   "cell_type": "code",
   "execution_count": 16,
   "metadata": {},
   "outputs": [
    {
     "name": "stdout",
     "output_type": "stream",
     "text": [
      "Probability to learn log(S) resp. log(S)-1 bits of s\n",
      "\n",
      "q =  0.0 \t 0.902 \t 0.9029727700381798\n",
      "q =  0.05 \t 0.8947308596241714 \t 0.900721575953775\n",
      "q =  0.1 \t 0.8732054795417439 \t 0.8944210161521834\n",
      "q =  0.15 \t 0.8382552640304205 \t 0.8847740088777536\n",
      "q =  0.2 \t 0.7912177186053696 \t 0.8727718001021872\n",
      "q =  0.25 \t 0.7338672689385287 \t 0.8596014363708558\n",
      "q =  0.3 \t 0.6683243394203282 \t 0.8465372685324873\n",
      "q =  0.35 \t 0.5969481472546199 \t 0.8348259403722579\n",
      "q =  0.4 \t 0.5222195845618325 \t 0.8255748006997145\n",
      "q =  0.45 \t 0.44662105934119856 \t 0.8196533301482354\n",
      "q =  0.5 \t 0.37252021802160523 \t 0.8176160253598529\n"
     ]
    },
    {
     "data": {
      "image/png": "[encoded data removed]",
      "text/plain": [
       "<Figure size 432x288 with 1 Axes>"
      ]
     },
     "metadata": {
      "needs_background": "light"
     },
     "output_type": "display_data"
    }
   ],
   "source": [
    "print(\"Probability to learn log(S) resp. log(S)-1 bits of s\\n\")\n",
    "\n",
    "for q in np.arange(0,0.5/delta+1,0.05/delta):\n",
    "    print(\"q = \",np.round(q*delta,3),\"\\t\",\n",
    "          probabilities[int(q)],\"\\t\",\n",
    "          probabilities[int(q)]\n",
    "          + probabilities[int(1/delta - q)] \n",
    "          + probabilities[int(1/delta + q)] \n",
    "          + probabilities[int(2/delta - q)]\n",
    "         )\n",
    "    plt.plot(np.round(q*delta,3),probabilities[int(q)],'bo')\n",
    "    plt.plot(np.round(q*delta,3),\n",
    "             probabilities[int(q)]\n",
    "             + probabilities[int(1/delta - q)] \n",
    "             + probabilities[int(1/delta + q)]\n",
    "             + probabilities[int(2/delta - q)],'ro')"
   ]
  },
  {
   "cell_type": "code",
   "execution_count": null,
   "metadata": {},
   "outputs": [],
   "source": []
  },
  {
   "cell_type": "code",
   "execution_count": 17,
   "metadata": {},
   "outputs": [],
   "source": [
    "from scipy.optimize import curve_fit\n",
    "\n",
    "def sinc(x, A, a):\n",
    "    return A*np.sinc(a*x)**2\n",
    "    #pi = np.pi\n",
    "    #return (A*np.sin(a*pi*x)/(a*pi*x))**2"
   ]
  },
  {
   "cell_type": "code",
   "execution_count": 26,
   "metadata": {},
   "outputs": [
    {
     "name": "stdout",
     "output_type": "stream",
     "text": [
      "Fit parameters: [0.90163943 0.99042431]\n",
      "Probability[0]: 0.902\n"
     ]
    },
    {
     "data": {
      "image/png": "[encoded data removed]",
      "text/plain": [
       "<Figure size 432x288 with 1 Axes>"
      ]
     },
     "metadata": {
      "needs_background": "light"
     },
     "output_type": "display_data"
    }
   ],
   "source": [
    "# fit sinc function to probability vs theta plot\n",
    "\n",
    "xdata=_range*S\n",
    "ydata=probabilities\n",
    "\n",
    "popt, pcov = curve_fit(sinc, xdata, ydata,bounds=[0,[2,5]])\n",
    "print(\"Fit parameters:\",popt)\n",
    "print(\"Probability[0]:\",probabilities[0])\n",
    "plt.plot(xdata, sinc(xdata, *popt), 'b--',\n",
    "         label='fit: A=%5.3f, a=%5.3f' % tuple(popt))\n",
    "#plt.plot(xdata, sinc(xdata, probabilities[0], 1), 'g--',\n",
    "#         label='fit: A=probability(0), a=1')\n",
    "plt.plot(xdata,ydata,'r.',label='data')\n",
    "plt.xlabel(r\"$\\theta\\cdot S$\")\n",
    "plt.ylabel(\"Probability\")\n",
    "plt.title(r\"Fit to $\\frac{A \\cdot \\sin(\\pi a x)}{\\pi a x}$\")\n",
    "plt.legend()\n",
    "plt.show()"
   ]
  }
 ],
 "metadata": {
  "kernelspec": {
   "display_name": "Python 3",
   "language": "python",
   "name": "python3"
  },
  "language_info": {
   "codemirror_mode": {
    "name": "ipython",
    "version": 3
   },
   "file_extension": ".py",
   "mimetype": "text/x-python",
   "name": "python",
   "nbconvert_exporter": "python",
   "pygments_lexer": "ipython3",
   "version": "3.7.6"
  }
 },
 "nbformat": 4,
 "nbformat_minor": 4
}
