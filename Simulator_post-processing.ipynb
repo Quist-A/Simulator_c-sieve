{
 "cells": [
  {
   "cell_type": "markdown",
   "metadata": {},
   "source": [
    "Author: Arend-Jan Quist\\\n",
    "Date created: 26 November 2021\\\n",
    "Last modified: 11 February 2022\n",
    "\n",
    "In this program, the post-processing on the output phase vectors of the c-sieve is simulated.\n",
    "The multipliers of the output phase vector from the c-sieve are assumed to be binomial distributed with parameters $n=L-1$ and $p=\\frac{1}{S}$ or are imported from a c-sieve simulator.\\\n",
    "\n",
    "To use imported phase vectors from the c-sieve simulator, run the program \"Save_phasevectors_c-sieve-simulator.ipynb\".\n"
   ]
  },
  {
   "cell_type": "code",
   "execution_count": 1,
   "metadata": {},
   "outputs": [],
   "source": [
    "import numpy as np\n",
    "from numba import jit\n",
    "import matplotlib.pyplot as plt"
   ]
  },
  {
   "cell_type": "markdown",
   "metadata": {},
   "source": []
  },
  {
   "cell_type": "code",
   "execution_count": 2,
   "metadata": {},
   "outputs": [],
   "source": [
    "# This function can be replaced by importing a phase vector (its multipliers) from a c-sieve simulation\n",
    "def create_multipliers(n,p,S):\n",
    "    \"\"\"Create multipliers as simulation for a c-sieve output vector according to the binomial distribution\"\"\" \n",
    "    \n",
    "    multipliers = np.random.binomial(n,p,S)# create random multipliers\n",
    "\n",
    "    L_updated = np.sum(multipliers) # calculate length of obtained phase vector\n",
    "    \n",
    "    return (multipliers,L_updated)\n",
    "\n",
    "\n",
    "def measure_counter_register(S,L,multipliers):\n",
    "    \"\"\"Find random output of measurement of first register of |I(j)> 's\"\"\" \n",
    "    \n",
    "    x = np.random.randint(L)\n",
    "\n",
    "    for i in range(S):\n",
    "        res = x - multipliers[i]\n",
    "        if (res >= 0):\n",
    "            x = res\n",
    "        else:\n",
    "            break\n",
    "    I_measured = x\n",
    "    return I_measured\n",
    "\n",
    "\n",
    "def create_punctured_phasevector(multipliers,I_measured):\n",
    "    \"\"\"Create the punctured phase vector based on the multipliers of the \n",
    "    original phase vector and the measured value of the counter register.\n",
    "    \"\"\"\n",
    "    X = [multipliers>I_measured] \n",
    "    X_card = np.sum(X) # number of surviving indices\n",
    "    X = np.nonzero(X[0])[0] # set of surviving indices\n",
    "    return (X,X_card)\n",
    "\n",
    "@jit(nopython=True)\n",
    "def calculate_probability(S,X,X_card,theta):\n",
    "    _sum = 0\n",
    "    for b in X:\n",
    "        #print(b)\n",
    "        _sum += np.exp(2j*np.pi*b*theta)\n",
    "    return abs(_sum)**2 / (X_card*S)\n",
    "\n",
    "\n",
    "def calculate_probabilities(S,X,X_card,range_theta):\n",
    "    probabilities = []\n",
    "    \n",
    "    for theta in range_theta:\n",
    "        probabilities.append(calculate_probability(S,X,X_card, theta))\n",
    "    return probabilities\n",
    "\n",
    "\n",
    "def simulate(L,S,seed=20211126):\n",
    "    \"\"\"Simulate the post processing of option (1) averaged over measurements\n",
    "    \"\"\"\n",
    "    \n",
    "    np.random.seed(seed) # set seed to make things reproducible\n",
    "    \n",
    "    # parameters for random multipliers\n",
    "    n = L-1\n",
    "    p = 1/S\n",
    "    \n",
    "    # create phase vector as from c-sieve\n",
    "    multipliers,L = create_multipliers(n,p,S)\n",
    "    \n",
    "    \n",
    "    # apply post processing: first measure counter register, than measure the other register.\n",
    "    \n",
    "    n_q = 1  # number of values of q sampled\n",
    "    range_q = np.linspace(0,1/(2*S),n_q)\n",
    "    \n",
    "    N_measurements = 1000  # number of times the state is measured\n",
    "    \n",
    "    probabilities = np.zeros([N_measurements,n_q])\n",
    "    \n",
    "    for i in range(N_measurements):\n",
    "        I_measured = measure_counter_register(S,L,multipliers)\n",
    "        X,X_card = create_punctured_phasevector(multipliers,I_measured)\n",
    "        \n",
    "        for j,q in enumerate(range_q):\n",
    "            probabilities[i][j] = sum(calculate_probabilities(S,X,X_card,[q]))#,1/S-q,1/S+q,2/S-q]))\n",
    "            \n",
    "    return probabilities"
   ]
  },
  {
   "cell_type": "code",
   "execution_count": null,
   "metadata": {},
   "outputs": [],
   "source": []
  },
  {
   "cell_type": "code",
   "execution_count": 3,
   "metadata": {},
   "outputs": [],
   "source": [
    "# parameters\n",
    "\n",
    "L = 5000 # length of phase vector\n",
    "S = 500 # range of phase vector\n",
    "N = 1000000  # group order -> not needed in this simulation\n",
    "    \n",
    "# parameters for random multipliers\n",
    "n = L-1\n",
    "p = 1/S\n",
    "\n",
    "np.random.seed(20211126) # set seed to make things reproducible\n",
    "\n",
    "import_phasevector = True"
   ]
  },
  {
   "cell_type": "code",
   "execution_count": 4,
   "metadata": {},
   "outputs": [
    {
     "name": "stdout",
     "output_type": "stream",
     "text": [
      "L_realized = 1519\n"
     ]
    }
   ],
   "source": [
    "if import_phasevector:\n",
    "    # import phase vector from file\n",
    "    i=0 #number of run\n",
    "    r=2 #arity\n",
    "    infile = \"Phasevectors/phasevector_\"+str(L)+\"_\"+str(S)+\"_\"+str(N)+\"_\"+str(r)+\"_\"+str(i)+\".npz\"\n",
    "    data=np.load(infile,allow_pickle=True)['data']\n",
    "    multiplier_values = data[0]\n",
    "    multipliers = np.histogram(multiplier_values,np.arange(-0.5,S+1 +0.5))[0]\n",
    "    L = data[1]\n",
    "    \n",
    "else:\n",
    "    # create phase vector as from c-sieve by simulation\n",
    "    multipliers,L = create_multipliers(n,p,S)\n",
    "    \n",
    "print(\"L_realized =\", L)\n",
    "#multipliers[0]"
   ]
  },
  {
   "cell_type": "code",
   "execution_count": 5,
   "metadata": {},
   "outputs": [],
   "source": [
    "# Simulation of the post processing\n",
    "\n",
    "\n",
    "# apply post processing: first measure counter register, than measure the other register.\n",
    "\n",
    "n_q = 1  # number of values of q sampled\n",
    "range_q = np.linspace(0,1/(2*S),n_q)\n",
    "\n",
    "N_measurements = 1000  # number of times the state is measured\n",
    "\n",
    "probabilities = np.zeros([N_measurements,n_q])\n",
    "\n",
    "for i in range(N_measurements):\n",
    "    I_measured = measure_counter_register(S,L,multipliers)\n",
    "    X,X_card = create_punctured_phasevector(multipliers,I_measured)\n",
    "    \n",
    "    for j,q in enumerate(range_q):\n",
    "        probabilities[i][j] = sum(calculate_probabilities(S,X,X_card,[q]))#,1/S-q,1/S+q,2/S-q]))\n",
    "#print(np.average(probabilities,0))\n",
    "#print(np.average(probabilities))"
   ]
  },
  {
   "cell_type": "code",
   "execution_count": 6,
   "metadata": {},
   "outputs": [],
   "source": [
    "\n",
    "probabilities = []\n",
    "range_L = np.logspace(5,18,30,base=2)\n",
    "for L in range_L:\n",
    "    probabilities.append(np.average(simulate(L,S)))\n",
    "    "
   ]
  },
  {
   "cell_type": "code",
   "execution_count": 7,
   "metadata": {},
   "outputs": [
    {
     "data": {
      "image/png": "[encoded data removed]",
      "text/plain": [
       "<Figure size 432x288 with 1 Axes>"
      ]
     },
     "metadata": {
      "needs_background": "light"
     },
     "output_type": "display_data"
    }
   ],
   "source": [
    "plt.plot(range_L[:]/S,probabilities[:],'o')\n",
    "plt.semilogx()\n",
    "#plt.semilogy()\n",
    "plt.xlabel(r\"$L/S$\")\n",
    "#plt.ylabel(\"Probability to find log(S) bits\")\n",
    "plt.ylabel(r\"Amplitude $A$\")\n",
    "#plt.title(r\"$q=θ=0, S=500$\")\n",
    "plt.title(r\"Amplitude vs. $L/S$\")\n",
    "\n",
    "plt.savefig(\"Probability_vs_L_over_S_plot.pdf\")\n",
    "plt.show()"
   ]
  },
  {
   "cell_type": "code",
   "execution_count": null,
   "metadata": {},
   "outputs": [],
   "source": []
  },
  {
   "cell_type": "code",
   "execution_count": 8,
   "metadata": {},
   "outputs": [
    {
     "data": {
      "image/png": "[encoded data removed]",
      "text/plain": [
       "<Figure size 432x288 with 1 Axes>"
      ]
     },
     "metadata": {
      "needs_background": "light"
     },
     "output_type": "display_data"
    }
   ],
   "source": [
    "delta = 0.05\n",
    "\n",
    "_range = np.arange(0,2.5/S,delta/S)\n",
    "probabilities = []\n",
    "\n",
    "for theta in _range:\n",
    "    probabilities.append(calculate_probability(S,X,X_card, theta))\n",
    "    #print(theta,\"done.\")\n",
    "    \n",
    "plt.plot(_range*S,probabilities,'o')\n",
    "plt.xlabel(' θ$\\cdot$S ')\n",
    "plt.ylabel(\"Probability\")\n",
    "plt.show()"
   ]
  },
  {
   "cell_type": "code",
   "execution_count": 9,
   "metadata": {},
   "outputs": [
    {
     "data": {
      "text/plain": [
       "'\\n\\n# add random values of theta to the probability calculation to verify\\n# the continuity of the function\\n\\nm = 50  # number of added uniform values of theta\\nrnd_thetas = np.random.uniform(0,2.5/S,m)\\n    \\ndelta = 0.05\\n\\n_range = np.arange(0,2.5/S,delta/S)\\n_range = np.append(_range,rnd_thetas)\\nprobabilities = []\\n\\nfor theta in _range:\\n    probabilities.append(calculate_probability(S,X,X_card, theta))\\n    #print(theta,\"done.\")\\n    \\nplt.plot(_range*S,probabilities,\\'.\\')\\nplt.xlabel(\\' θ$\\\\cdot$S \\')\\nplt.ylabel(\"Probability\")\\nplt.show()\\n\\n'"
      ]
     },
     "execution_count": 9,
     "metadata": {},
     "output_type": "execute_result"
    }
   ],
   "source": [
    "\"\"\"\n",
    "\n",
    "# add random values of theta to the probability calculation to verify\n",
    "# the continuity of the function\n",
    "\n",
    "m = 50  # number of added uniform values of theta\n",
    "rnd_thetas = np.random.uniform(0,2.5/S,m)\n",
    "    \n",
    "delta = 0.05\n",
    "\n",
    "_range = np.arange(0,2.5/S,delta/S)\n",
    "_range = np.append(_range,rnd_thetas)\n",
    "probabilities = []\n",
    "\n",
    "for theta in _range:\n",
    "    probabilities.append(calculate_probability(S,X,X_card, theta))\n",
    "    #print(theta,\"done.\")\n",
    "    \n",
    "plt.plot(_range*S,probabilities,'.')\n",
    "plt.xlabel(' θ$\\cdot$S ')\n",
    "plt.ylabel(\"Probability\")\n",
    "plt.show()\n",
    "\n",
    "\"\"\""
   ]
  },
  {
   "cell_type": "markdown",
   "metadata": {},
   "source": [
    "Define $q=\\left|\\frac{s}{N}S - \\left\\lceil\\frac{s}{N}S\\right\\rfloor\\right|$. "
   ]
  },
  {
   "cell_type": "code",
   "execution_count": 10,
   "metadata": {},
   "outputs": [
    {
     "data": {
      "text/plain": [
       "'\\n\\nprint(\"Probability to learn log(S) resp. log(S)-1 bits of s\\n\")\\n\\nfor q in np.arange(0,0.5/delta+1,0.05/delta):\\n    print(\"q = \",np.round(q*delta,3),\"\\t\",\\n          probabilities[int(q)],\"\\t\",\\n          probabilities[int(q)]\\n          + probabilities[int(1/delta - q)] \\n          + probabilities[int(1/delta + q)] \\n          + probabilities[int(2/delta - q)]\\n         )\\n    plt.plot(np.round(q*delta,3),probabilities[int(q)],\\'bo\\')\\n    plt.plot(np.round(q*delta,3),\\n             probabilities[int(q)]\\n             + probabilities[int(1/delta - q)] \\n             + probabilities[int(1/delta + q)]\\n             + probabilities[int(2/delta - q)],\\'ro\\')\\n             \\n'"
      ]
     },
     "execution_count": 10,
     "metadata": {},
     "output_type": "execute_result"
    }
   ],
   "source": [
    "\"\"\"\n",
    "\n",
    "print(\"Probability to learn log(S) resp. log(S)-1 bits of s\\n\")\n",
    "\n",
    "for q in np.arange(0,0.5/delta+1,0.05/delta):\n",
    "    print(\"q = \",np.round(q*delta,3),\"\\t\",\n",
    "          probabilities[int(q)],\"\\t\",\n",
    "          probabilities[int(q)]\n",
    "          + probabilities[int(1/delta - q)] \n",
    "          + probabilities[int(1/delta + q)] \n",
    "          + probabilities[int(2/delta - q)]\n",
    "         )\n",
    "    plt.plot(np.round(q*delta,3),probabilities[int(q)],'bo')\n",
    "    plt.plot(np.round(q*delta,3),\n",
    "             probabilities[int(q)]\n",
    "             + probabilities[int(1/delta - q)] \n",
    "             + probabilities[int(1/delta + q)]\n",
    "             + probabilities[int(2/delta - q)],'ro')\n",
    "             \n",
    "\"\"\""
   ]
  },
  {
   "cell_type": "code",
   "execution_count": null,
   "metadata": {},
   "outputs": [],
   "source": []
  },
  {
   "cell_type": "code",
   "execution_count": 11,
   "metadata": {},
   "outputs": [],
   "source": [
    "from scipy.optimize import curve_fit\n",
    "\n",
    "def sinc(x, A, a):\n",
    "    return A*np.sinc(a*x)**2\n",
    "    #pi = np.pi\n",
    "    #return (A*np.sin(a*pi*x)/(a*pi*x))**2"
   ]
  },
  {
   "cell_type": "code",
   "execution_count": 12,
   "metadata": {},
   "outputs": [
    {
     "name": "stdout",
     "output_type": "stream",
     "text": [
      "Fit parameters: [0.94376332 0.99976372]\n",
      "Probability[0]: 0.944\n"
     ]
    },
    {
     "data": {
      "image/png": "[encoded data removed]",
      "text/plain": [
       "<Figure size 432x288 with 1 Axes>"
      ]
     },
     "metadata": {
      "needs_background": "light"
     },
     "output_type": "display_data"
    }
   ],
   "source": [
    "# fit sinc function to probability vs theta plot\n",
    "\n",
    "xdata=_range*S\n",
    "ydata=probabilities\n",
    "\n",
    "popt, pcov = curve_fit(sinc, xdata, ydata,bounds=[0,[2,5]])\n",
    "print(\"Fit parameters:\",popt)\n",
    "print(\"Probability[0]:\",probabilities[0])\n",
    "plt.plot(xdata, sinc(xdata, *popt), 'b--',\n",
    "         label='fit: A=%5.4f, a=%5.4f' % tuple(popt))\n",
    "#plt.plot(xdata, sinc(xdata, probabilities[0], 1), 'g--',\n",
    "#         label='fit: A=probability(0), a=1')\n",
    "plt.plot(xdata,ydata,'r.',label='data')\n",
    "plt.xlabel(r\"$\\theta\\cdot S$\")\n",
    "plt.ylabel(\"Probability\")\n",
    "#plt.title(r\"Fit to $\\frac{A \\cdot \\sin(\\pi a x)}{\\pi a x}$\")\n",
    "plt.title(r\"Probability vs. $\\theta S$ with fit to $sinc^2$\")\n",
    "plt.legend()\n",
    "\n",
    "plt.savefig(\"Data_from_post-processing_simulator_with_sinc^2-fit.pdf\")\n",
    "plt.show()"
   ]
  }
 ],
 "metadata": {
  "kernelspec": {
   "display_name": "Python 3",
   "language": "python",
   "name": "python3"
  },
  "language_info": {
   "codemirror_mode": {
    "name": "ipython",
    "version": 3
   },
   "file_extension": ".py",
   "mimetype": "text/x-python",
   "name": "python",
   "nbconvert_exporter": "python",
   "pygments_lexer": "ipython3",
   "version": "3.7.6"
  }
 },
 "nbformat": 4,
 "nbformat_minor": 4
}
